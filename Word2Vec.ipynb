{
  "cells": [
    {
      "cell_type": "code",
      "execution_count": null,
      "metadata": {
        "colab": {
          "base_uri": "https://localhost:8080/"
        },
        "id": "V4CF7sf47hzP",
        "outputId": "61b643c4-99e6-4150-9faa-acf217d1c9e4"
      },
      "outputs": [
        {
          "name": "stdout",
          "output_type": "stream",
          "text": [
            "Requirement already satisfied: gensim in /usr/local/lib/python3.11/dist-packages (4.3.3)\n",
            "Requirement already satisfied: numpy<2.0,>=1.18.5 in /usr/local/lib/python3.11/dist-packages (from gensim) (1.26.4)\n",
            "Requirement already satisfied: scipy<1.14.0,>=1.7.0 in /usr/local/lib/python3.11/dist-packages (from gensim) (1.13.1)\n",
            "Requirement already satisfied: smart-open>=1.8.1 in /usr/local/lib/python3.11/dist-packages (from gensim) (7.3.0.post1)\n",
            "Requirement already satisfied: wrapt in /usr/local/lib/python3.11/dist-packages (from smart-open>=1.8.1->gensim) (1.17.2)\n"
          ]
        }
      ],
      "source": [
        "!pip install gensim"
      ]
    },
    {
      "cell_type": "markdown",
      "metadata": {
        "id": "k7jBn3NtuNps"
      },
      "source": [
        "## **Load Pretrained Word2Vec**"
      ]
    },
    {
      "cell_type": "code",
      "execution_count": null,
      "metadata": {
        "id": "x2UZP5yCuD8o"
      },
      "outputs": [],
      "source": [
        "from gensim.models import KeyedVectors"
      ]
    },
    {
      "cell_type": "code",
      "execution_count": null,
      "metadata": {
        "colab": {
          "background_save": true,
          "base_uri": "https://localhost:8080/"
        },
        "id": "HhJ1pDkMuct8",
        "outputId": "4418bfef-7c53-4c32-d306-f54cb730b7bb"
      },
      "outputs": [
        {
          "name": "stdout",
          "output_type": "stream",
          "text": [
            "dict_keys(['fasttext-wiki-news-subwords-300', 'conceptnet-numberbatch-17-06-300', 'word2vec-ruscorpora-300', 'word2vec-google-news-300', 'glove-wiki-gigaword-50', 'glove-wiki-gigaword-100', 'glove-wiki-gigaword-200', 'glove-wiki-gigaword-300', 'glove-twitter-25', 'glove-twitter-50', 'glove-twitter-100', 'glove-twitter-200', '__testing_word2vec-matrix-synopsis'])\n",
            "[==================================================] 100.0% 1662.8/1662.8MB downloaded\n"
          ]
        }
      ],
      "source": [
        "import gensim.downloader as api\n",
        "\n",
        "# List all available models\n",
        "print(api.info()['models'].keys())\n",
        "\n",
        "# Download and load the Word2Vec Google News model\n",
        "model = api.load(\"word2vec-google-news-300\")\n"
      ]
    },
    {
      "cell_type": "code",
      "execution_count": null,
      "metadata": {
        "colab": {
          "background_save": true
        },
        "id": "u2f43obiu5no",
        "outputId": "e99e1535-5a2e-4fba-8431-717da89fe9c5"
      },
      "outputs": [
        {
          "name": "stdout",
          "output_type": "stream",
          "text": [
            "0.6510957\n"
          ]
        }
      ],
      "source": [
        "# Example usage\n",
        "print(model.similarity(\"king\", \"queen\"))"
      ]
    },
    {
      "cell_type": "code",
      "execution_count": null,
      "metadata": {
        "colab": {
          "background_save": true
        },
        "id": "COrLOAdUyVlR",
        "outputId": "bd341e1a-4d07-421f-e5e2-f2a70e01fd40"
      },
      "outputs": [
        {
          "name": "stdout",
          "output_type": "stream",
          "text": [
            "8792\n"
          ]
        }
      ],
      "source": [
        "#Word Similarity\n",
        "print(model.get_index(\"airplane\"))"
      ]
    },
    {
      "cell_type": "code",
      "execution_count": null,
      "metadata": {
        "colab": {
          "background_save": true
        },
        "id": "yMrGOsAcw7kn",
        "outputId": "8cd4293f-f0f6-499d-e649-ea70b5b59679"
      },
      "outputs": [
        {
          "name": "stdout",
          "output_type": "stream",
          "text": [
            "[('queen', 0.7118193507194519), ('monarch', 0.6189674139022827), ('princess', 0.5902431011199951), ('crown_prince', 0.5499460697174072), ('prince', 0.5377321839332581), ('kings', 0.5236844420433044), ('Queen_Consort', 0.5235945582389832), ('queens', 0.5181134343147278), ('sultan', 0.5098593831062317), ('monarchy', 0.5087411999702454)]\n"
          ]
        }
      ],
      "source": [
        "#word analogy\n",
        "\n",
        "print(model.most_similar(positive=['king', 'woman'], negative=['man']))"
      ]
    },
    {
      "cell_type": "code",
      "execution_count": null,
      "metadata": {
        "colab": {
          "background_save": true
        },
        "id": "0fKOBG6fxblH",
        "outputId": "1f1d52d1-320a-4fcb-c61d-dc8b0ef4e5b0"
      },
      "outputs": [
        {
          "name": "stdout",
          "output_type": "stream",
          "text": [
            "[('crown_prince', 0.5716586112976074), ('kings', 0.5707532167434692), ('monarch', 0.5596757531166077), ('sultan', 0.5514950156211853), ('princes', 0.5330824255943298), ('throne', 0.5058426856994629), ('Crown_Prince', 0.5053551197052002), ('kingdom', 0.4958062469959259), ('Majesty_King', 0.4858127534389496), ('ruler', 0.477326363325119)]\n"
          ]
        }
      ],
      "source": [
        "print(model.most_similar(positive=['king', 'prince'], negative=['princess']))"
      ]
    },
    {
      "cell_type": "code",
      "execution_count": null,
      "metadata": {
        "colab": {
          "background_save": true
        },
        "id": "EyUdiNNOzDCO",
        "outputId": "89b6c5bb-8ee2-4013-e847-1ac911bdfdfd"
      },
      "outputs": [
        {
          "name": "stdout",
          "output_type": "stream",
          "text": [
            "car\n"
          ]
        }
      ],
      "source": [
        "#outlier detection\n",
        "\n",
        "print(model.doesnt_match(\"breakfast cereal dinner car\".split()))"
      ]
    },
    {
      "cell_type": "code",
      "execution_count": null,
      "metadata": {
        "colab": {
          "background_save": true
        },
        "id": "Jm6Nhkf8zeN-",
        "outputId": "b7ec617a-3b17-457f-f69f-5aa2c59dbe09"
      },
      "outputs": [
        {
          "name": "stdout",
          "output_type": "stream",
          "text": [
            "plumber\n"
          ]
        }
      ],
      "source": [
        "print(model.doesnt_match(\"breakfast study plumber vehicle\".split()))"
      ]
    },
    {
      "cell_type": "code",
      "execution_count": null,
      "metadata": {
        "colab": {
          "background_save": true
        },
        "id": "Z_45OU78zqYD",
        "outputId": "32c5ca4a-7867-4acf-9ae6-0ebb944ffab8"
      },
      "outputs": [
        {
          "name": "stdout",
          "output_type": "stream",
          "text": [
            "[0.6510956  0.22942668 0.10826096]\n"
          ]
        }
      ],
      "source": [
        "print(model.cosine_similarities(model['king'], [model['queen'], model['man'], model['apple']]))"
      ]
    },
    {
      "cell_type": "markdown",
      "metadata": {
        "id": "ul4x0iYv2XUO"
      },
      "source": [
        "##Custom training own Word2Vec"
      ]
    },
    {
      "cell_type": "code",
      "execution_count": null,
      "metadata": {
        "colab": {
          "background_save": true
        },
        "id": "ApTcqxBd0Iau"
      },
      "outputs": [],
      "source": [
        "from gensim.models import Word2Vec\n",
        "from nltk.tokenize import word_tokenize\n",
        "from nltk.corpus import stopwords\n",
        "import nltk"
      ]
    },
    {
      "cell_type": "code",
      "execution_count": null,
      "metadata": {
        "colab": {
          "background_save": true
        },
        "id": "rbJ5Q6wu2zUj",
        "outputId": "1872b9e8-24b7-45c6-d537-35a1a87b47e1"
      },
      "outputs": [
        {
          "name": "stderr",
          "output_type": "stream",
          "text": [
            "[nltk_data] Downloading package punkt to /root/nltk_data...\n",
            "[nltk_data]   Unzipping tokenizers/punkt.zip.\n",
            "[nltk_data] Downloading package stopwords to /root/nltk_data...\n",
            "[nltk_data]   Unzipping corpora/stopwords.zip.\n",
            "[nltk_data] Downloading package punkt_tab to /root/nltk_data...\n",
            "[nltk_data]   Unzipping tokenizers/punkt_tab.zip.\n"
          ]
        },
        {
          "data": {
            "text/plain": [
              "True"
            ]
          },
          "execution_count": 12,
          "metadata": {},
          "output_type": "execute_result"
        }
      ],
      "source": [
        "nltk.download('punkt')\n",
        "nltk.download('stopwords')\n",
        "nltk.download('punkt_tab')"
      ]
    },
    {
      "cell_type": "code",
      "execution_count": null,
      "metadata": {
        "colab": {
          "background_save": true
        },
        "id": "Of_O5Slk28Wl"
      },
      "outputs": [],
      "source": [
        "sentences = [\n",
        "    \"This phone is good for buying\",\n",
        "    \"I love this camera and its features\",\n",
        "    \"The battery life is very poor\",\n",
        "    \"Worst phone ever made\"\n",
        "]"
      ]
    },
    {
      "cell_type": "code",
      "execution_count": null,
      "metadata": {
        "colab": {
          "background_save": true
        },
        "id": "FFj8WgiQ3dma"
      },
      "outputs": [],
      "source": [
        "#preprocessing\n",
        "stop_words = set(stopwords.words(\"english\"))\n",
        "tokenized = [\n",
        "    [w.lower() for w in word_tokenize(sent) if w.isalpha() and w.lower() not in stop_words] for sent in sentences\n",
        "]"
      ]
    },
    {
      "cell_type": "code",
      "execution_count": null,
      "metadata": {
        "colab": {
          "background_save": true
        },
        "id": "2ba5f7bn38wt"
      },
      "outputs": [],
      "source": [
        "model = Word2Vec(sentences=tokenized, vector_size=100, window=5, min_count=1)"
      ]
    },
    {
      "cell_type": "code",
      "execution_count": 17,
      "metadata": {
        "colab": {
          "base_uri": "https://localhost:8080/"
        },
        "id": "1TS795o54R4a",
        "outputId": "2fa5153c-b074-4704-9ecf-0479797d4482"
      },
      "outputs": [
        {
          "output_type": "stream",
          "name": "stdout",
          "text": [
            "[('love', 0.21617142856121063), ('features', 0.09291722625494003), ('good', 0.07963486760854721), ('buying', 0.06285078823566437), ('camera', 0.0270574688911438), ('battery', 0.016134677454829216), ('made', -0.01083916611969471), ('poor', -0.027750369161367416), ('ever', -0.05234673246741295), ('life', -0.059876296669244766)]\n"
          ]
        }
      ],
      "source": [
        "print(model.wv.most_similar(\"phone\"))"
      ]
    },
    {
      "cell_type": "code",
      "source": [],
      "metadata": {
        "id": "jBeIAYmbEGSY"
      },
      "execution_count": null,
      "outputs": []
    }
  ],
  "metadata": {
    "colab": {
      "provenance": [],
      "authorship_tag": "ABX9TyM/0jr/D52eXGToqGuPIkq4"
    },
    "kernelspec": {
      "display_name": "Python 3",
      "name": "python3"
    },
    "language_info": {
      "name": "python"
    }
  },
  "nbformat": 4,
  "nbformat_minor": 0
}