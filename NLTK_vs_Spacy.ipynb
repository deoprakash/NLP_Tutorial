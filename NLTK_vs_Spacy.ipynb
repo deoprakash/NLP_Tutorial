{
  "nbformat": 4,
  "nbformat_minor": 0,
  "metadata": {
    "colab": {
      "provenance": [],
      "authorship_tag": "ABX9TyNe1Uoe30lwJCUSa+LK4PoI",
      "include_colab_link": true
    },
    "kernelspec": {
      "name": "python3",
      "display_name": "Python 3"
    },
    "language_info": {
      "name": "python"
    }
  },
  "cells": [
    {
      "cell_type": "markdown",
      "metadata": {
        "id": "view-in-github",
        "colab_type": "text"
      },
      "source": [
        "<a href=\"https://colab.research.google.com/github/deoprakash/NLP_Tutorial/blob/main/NLTK_vs_Spacy.ipynb\" target=\"_parent\"><img src=\"https://colab.research.google.com/assets/colab-badge.svg\" alt=\"Open In Colab\"/></a>"
      ]
    },
    {
      "cell_type": "markdown",
      "source": [
        "### **SPACY vs NLTK**"
      ],
      "metadata": {
        "id": "dgg9aIYM-jfQ"
      }
    },
    {
      "cell_type": "code",
      "source": [
        "import spacy\n"
      ],
      "metadata": {
        "id": "Z5YjVRqt5E8t"
      },
      "execution_count": 6,
      "outputs": []
    },
    {
      "cell_type": "code",
      "source": [
        "nlp = spacy.load(\"en_core_web_sm\")\n",
        "\n",
        "doc = nlp(\"Dr. Stranger love Pav bhaji in Mumbai. Hulk love chat in delhi\")\n",
        "\n",
        "for sentence in doc.sents:\n",
        "  print(sentence)"
      ],
      "metadata": {
        "colab": {
          "base_uri": "https://localhost:8080/"
        },
        "id": "brYj7VVN5_ZT",
        "outputId": "eb6f5731-e0b1-45bd-9a2e-dba048f2bd77"
      },
      "execution_count": 7,
      "outputs": [
        {
          "output_type": "stream",
          "name": "stdout",
          "text": [
            "Dr. Stranger love Pav bhaji in Mumbai.\n",
            "Hulk love chat in delhi\n"
          ]
        }
      ]
    },
    {
      "cell_type": "code",
      "source": [
        "for sentence in doc.sents:\n",
        "  for word in sentence:\n",
        "    print(word)"
      ],
      "metadata": {
        "colab": {
          "base_uri": "https://localhost:8080/"
        },
        "id": "BGqdB_Ih6Fwi",
        "outputId": "e31ddb44-6b73-40d8-fef3-7f4edcbd287c"
      },
      "execution_count": 8,
      "outputs": [
        {
          "output_type": "stream",
          "name": "stdout",
          "text": [
            "Dr.\n",
            "Stranger\n",
            "love\n",
            "Pav\n",
            "bhaji\n",
            "in\n",
            "Mumbai\n",
            ".\n",
            "Hulk\n",
            "love\n",
            "chat\n",
            "in\n",
            "delhi\n"
          ]
        }
      ]
    },
    {
      "cell_type": "code",
      "source": [
        "import nltk\n",
        "nltk.download('punkt')\n",
        "nltk.download('punkt_tab')"
      ],
      "metadata": {
        "colab": {
          "base_uri": "https://localhost:8080/"
        },
        "id": "tItoe0OG8oCG",
        "outputId": "ec4e211f-0f85-4eb1-e469-7bb40b69330d"
      },
      "execution_count": 23,
      "outputs": [
        {
          "output_type": "stream",
          "name": "stderr",
          "text": [
            "[nltk_data] Downloading package punkt to /root/nltk_data...\n",
            "[nltk_data]   Package punkt is already up-to-date!\n",
            "[nltk_data] Downloading package punkt_tab to /root/nltk_data...\n",
            "[nltk_data]   Unzipping tokenizers/punkt_tab.zip.\n"
          ]
        },
        {
          "output_type": "execute_result",
          "data": {
            "text/plain": [
              "True"
            ]
          },
          "metadata": {},
          "execution_count": 23
        }
      ]
    },
    {
      "cell_type": "code",
      "source": [
        "from nltk.tokenize import sent_tokenize\n",
        "\n",
        "sent_tokenize(\"Dr. Stranger love Pav bhaji in Mumbai. Hulk love chat in delhi\")"
      ],
      "metadata": {
        "colab": {
          "base_uri": "https://localhost:8080/"
        },
        "id": "YTSnVOMj6zcq",
        "outputId": "898c3019-22ed-4812-b8d7-f7161fbfce35"
      },
      "execution_count": 24,
      "outputs": [
        {
          "output_type": "execute_result",
          "data": {
            "text/plain": [
              "['Dr. Stranger love Pav bhaji in Mumbai.', 'Hulk love chat in delhi']"
            ]
          },
          "metadata": {},
          "execution_count": 24
        }
      ]
    },
    {
      "cell_type": "code",
      "source": [
        "from nltk.tokenize import word_tokenize\n",
        "word_tokenize(\"Dr. Stranger love Pav bhaji in Mumbai. Hulk love chat in delhi\")"
      ],
      "metadata": {
        "colab": {
          "base_uri": "https://localhost:8080/"
        },
        "id": "bM06DJs1-Hqs",
        "outputId": "6ddda862-2705-4c3c-9122-8218b95b27ba"
      },
      "execution_count": 26,
      "outputs": [
        {
          "output_type": "execute_result",
          "data": {
            "text/plain": [
              "['Dr.',\n",
              " 'Stranger',\n",
              " 'love',\n",
              " 'Pav',\n",
              " 'bhaji',\n",
              " 'in',\n",
              " 'Mumbai',\n",
              " '.',\n",
              " 'Hulk',\n",
              " 'love',\n",
              " 'chat',\n",
              " 'in',\n",
              " 'delhi']"
            ]
          },
          "metadata": {},
          "execution_count": 26
        }
      ]
    },
    {
      "cell_type": "markdown",
      "source": [
        "## **Differences**"
      ],
      "metadata": {
        "id": "MLklAmln-tXd"
      }
    },
    {
      "cell_type": "markdown",
      "source": [
        "Spacy :-\n",
        "\n",
        "> Object oriented\n",
        "> user friendly\n",
        ">provide most efficient NLP algos.\n",
        ">new and effective library\n",
        "\n",
        "NLTK: -\n",
        "\n",
        "> String processing Library.\n",
        ">NLTK is user friendly but less compared to Spacy.\n",
        ">provide access to many algos\n",
        "> nltk is old library."
      ],
      "metadata": {
        "id": "D-SKv6RM-wnh"
      }
    }
  ]
}