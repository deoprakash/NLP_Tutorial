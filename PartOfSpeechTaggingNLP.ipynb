{
  "nbformat": 4,
  "nbformat_minor": 0,
  "metadata": {
    "colab": {
      "provenance": [],
      "authorship_tag": "ABX9TyODAmqJANs2FG9LYfKR8Hb/",
      "include_colab_link": true
    },
    "kernelspec": {
      "name": "python3",
      "display_name": "Python 3"
    },
    "language_info": {
      "name": "python"
    }
  },
  "cells": [
    {
      "cell_type": "markdown",
      "metadata": {
        "id": "view-in-github",
        "colab_type": "text"
      },
      "source": [
        "<a href=\"https://colab.research.google.com/github/deoprakash/NLP_Tutorial/blob/main/PartOfSpeechTaggingNLP.ipynb\" target=\"_parent\"><img src=\"https://colab.research.google.com/assets/colab-badge.svg\" alt=\"Open In Colab\"/></a>"
      ]
    },
    {
      "cell_type": "code",
      "execution_count": 1,
      "metadata": {
        "id": "212Y5UN6NvE4"
      },
      "outputs": [],
      "source": [
        "import spacy"
      ]
    },
    {
      "cell_type": "code",
      "source": [
        "nlp = spacy.load(\"en_core_web_sm\")"
      ],
      "metadata": {
        "id": "1s9oGm9JOlwd"
      },
      "execution_count": 2,
      "outputs": []
    },
    {
      "cell_type": "code",
      "source": [
        "nlp.pipe_names"
      ],
      "metadata": {
        "colab": {
          "base_uri": "https://localhost:8080/"
        },
        "id": "smWKqDItPnxV",
        "outputId": "6f23cb63-07db-4951-95d8-fd71617da70a"
      },
      "execution_count": 10,
      "outputs": [
        {
          "output_type": "execute_result",
          "data": {
            "text/plain": [
              "['tok2vec', 'tagger', 'parser', 'attribute_ruler', 'lemmatizer', 'ner']"
            ]
          },
          "metadata": {},
          "execution_count": 10
        }
      ]
    },
    {
      "cell_type": "code",
      "source": [
        "doc = nlp(\"Elon flew to mars yesterday. He carried biryani masala with him.\")\n",
        "\n",
        "for token in doc:\n",
        "  print(token,\"|\", token.pos_,\"|\", token.lemma_, \"|\", spacy.explain(token.pos_),\"|\", spacy.explain(token.tag_))"
      ],
      "metadata": {
        "colab": {
          "base_uri": "https://localhost:8080/"
        },
        "id": "hEoTl0z-OuaG",
        "outputId": "33c498db-a838-4ab7-f9df-3d1351315ed2"
      },
      "execution_count": 12,
      "outputs": [
        {
          "output_type": "stream",
          "name": "stdout",
          "text": [
            "Elon | PROPN | Elon | proper noun | noun, proper singular\n",
            "flew | VERB | fly | verb | verb, past tense\n",
            "to | ADP | to | adposition | conjunction, subordinating or preposition\n",
            "mars | NOUN | mar | noun | noun, plural\n",
            "yesterday | NOUN | yesterday | noun | noun, singular or mass\n",
            ". | PUNCT | . | punctuation | punctuation mark, sentence closer\n",
            "He | PRON | he | pronoun | pronoun, personal\n",
            "carried | VERB | carry | verb | verb, past tense\n",
            "biryani | ADJ | biryani | adjective | adjective (English), other noun-modifier (Chinese)\n",
            "masala | NOUN | masala | noun | noun, singular or mass\n",
            "with | ADP | with | adposition | conjunction, subordinating or preposition\n",
            "him | PRON | he | pronoun | pronoun, personal\n",
            ". | PUNCT | . | punctuation | punctuation mark, sentence closer\n"
          ]
        }
      ]
    },
    {
      "cell_type": "code",
      "source": [
        "earning_report = '''Microsoft Corp. today announced the following results for the quarter ended December 31, 2024, as compared to the corresponding period of last fiscal year:\n",
        "\n",
        "·         Revenue was $69.6 billion and increased 12%\n",
        "\n",
        "·         Operating income was $31.7 billion and increased 17% (up 16% in constant currency)\n",
        "\n",
        "·         Net income was $24.1 billion and increased 10%\n",
        "\n",
        "·         Diluted earnings per share was $3.23 and increased 10%\n",
        "\n",
        "“This quarter Microsoft Cloud revenue was $40.9 billion, up 21% year-over-year,” said Amy Hood, executive vice president and chief financial officer of Microsoft. ”We remain committed to balancing operational discipline with continued investments in our cloud and AI infrastructure.”\n",
        "\n",
        "'''"
      ],
      "metadata": {
        "id": "NvxM6T7wO5yC"
      },
      "execution_count": 13,
      "outputs": []
    },
    {
      "cell_type": "code",
      "source": [
        "doc = nlp(earning_report)\n",
        "\n",
        "for token in doc:\n",
        "  print(token,\"|\", token.pos_,\"|\", token.lemma_, \"|\", spacy.explain(token.pos_),\"|\", spacy.explain(token.tag_))"
      ],
      "metadata": {
        "colab": {
          "base_uri": "https://localhost:8080/"
        },
        "id": "P3tpXkuGRsC5",
        "outputId": "0269359f-a4ad-450f-8831-4949bef0a82c"
      },
      "execution_count": 15,
      "outputs": [
        {
          "output_type": "stream",
          "name": "stdout",
          "text": [
            "Microsoft | PROPN | Microsoft | proper noun | noun, proper singular\n",
            "Corp. | PROPN | Corp. | proper noun | noun, proper singular\n",
            "today | NOUN | today | noun | noun, singular or mass\n",
            "announced | VERB | announce | verb | verb, past tense\n",
            "the | DET | the | determiner | determiner\n",
            "following | VERB | follow | verb | verb, gerund or present participle\n",
            "results | NOUN | result | noun | noun, plural\n",
            "for | ADP | for | adposition | conjunction, subordinating or preposition\n",
            "the | DET | the | determiner | determiner\n",
            "quarter | NOUN | quarter | noun | noun, singular or mass\n",
            "ended | VERB | end | verb | verb, past tense\n",
            "December | PROPN | December | proper noun | noun, proper singular\n",
            "31 | NUM | 31 | numeral | cardinal number\n",
            ", | PUNCT | , | punctuation | punctuation mark, comma\n",
            "2024 | NUM | 2024 | numeral | cardinal number\n",
            ", | PUNCT | , | punctuation | punctuation mark, comma\n",
            "as | SCONJ | as | subordinating conjunction | conjunction, subordinating or preposition\n",
            "compared | VERB | compare | verb | verb, past participle\n",
            "to | ADP | to | adposition | conjunction, subordinating or preposition\n",
            "the | DET | the | determiner | determiner\n",
            "corresponding | ADJ | corresponding | adjective | adjective (English), other noun-modifier (Chinese)\n",
            "period | NOUN | period | noun | noun, singular or mass\n",
            "of | ADP | of | adposition | conjunction, subordinating or preposition\n",
            "last | ADJ | last | adjective | adjective (English), other noun-modifier (Chinese)\n",
            "fiscal | ADJ | fiscal | adjective | adjective (English), other noun-modifier (Chinese)\n",
            "year | NOUN | year | noun | noun, singular or mass\n",
            ": | PUNCT | : | punctuation | punctuation mark, colon or ellipsis\n",
            "\n",
            "\n",
            " | SPACE | \n",
            "\n",
            " | space | whitespace\n",
            "· | PUNCT | · | punctuation | superfluous punctuation\n",
            "         | SPACE |          | space | whitespace\n",
            "Revenue | NOUN | revenue | noun | noun, singular or mass\n",
            "was | AUX | be | auxiliary | verb, past tense\n",
            "$ | SYM | $ | symbol | symbol, currency\n",
            "69.6 | NUM | 69.6 | numeral | cardinal number\n",
            "billion | NUM | billion | numeral | cardinal number\n",
            "and | CCONJ | and | coordinating conjunction | conjunction, coordinating\n",
            "increased | VERB | increase | verb | verb, past tense\n",
            "12 | NUM | 12 | numeral | cardinal number\n",
            "% | NOUN | % | noun | noun, singular or mass\n",
            "\n",
            "\n",
            " | SPACE | \n",
            "\n",
            " | space | whitespace\n",
            "· | PUNCT | · | punctuation | superfluous punctuation\n",
            "         | SPACE |          | space | whitespace\n",
            "Operating | VERB | operate | verb | verb, gerund or present participle\n",
            "income | NOUN | income | noun | noun, singular or mass\n",
            "was | AUX | be | auxiliary | verb, past tense\n",
            "$ | SYM | $ | symbol | symbol, currency\n",
            "31.7 | NUM | 31.7 | numeral | cardinal number\n",
            "billion | NUM | billion | numeral | cardinal number\n",
            "and | CCONJ | and | coordinating conjunction | conjunction, coordinating\n",
            "increased | VERB | increase | verb | verb, past tense\n",
            "17 | NUM | 17 | numeral | cardinal number\n",
            "% | NOUN | % | noun | noun, singular or mass\n",
            "( | PUNCT | ( | punctuation | left round bracket\n",
            "up | ADV | up | adverb | adverb\n",
            "16 | NUM | 16 | numeral | cardinal number\n",
            "% | NOUN | % | noun | noun, singular or mass\n",
            "in | ADP | in | adposition | conjunction, subordinating or preposition\n",
            "constant | ADJ | constant | adjective | adjective (English), other noun-modifier (Chinese)\n",
            "currency | NOUN | currency | noun | noun, singular or mass\n",
            ") | PUNCT | ) | punctuation | right round bracket\n",
            "\n",
            "\n",
            " | SPACE | \n",
            "\n",
            " | space | whitespace\n",
            "· | PUNCT | · | punctuation | superfluous punctuation\n",
            "         | SPACE |          | space | whitespace\n",
            "Net | ADJ | net | adjective | adjective (English), other noun-modifier (Chinese)\n",
            "income | NOUN | income | noun | noun, singular or mass\n",
            "was | AUX | be | auxiliary | verb, past tense\n",
            "$ | SYM | $ | symbol | symbol, currency\n",
            "24.1 | NUM | 24.1 | numeral | cardinal number\n",
            "billion | NUM | billion | numeral | cardinal number\n",
            "and | CCONJ | and | coordinating conjunction | conjunction, coordinating\n",
            "increased | VERB | increase | verb | verb, past tense\n",
            "10 | NUM | 10 | numeral | cardinal number\n",
            "% | NOUN | % | noun | noun, singular or mass\n",
            "\n",
            "\n",
            " | SPACE | \n",
            "\n",
            " | space | whitespace\n",
            "· | PUNCT | · | punctuation | superfluous punctuation\n",
            "         | SPACE |          | space | whitespace\n",
            "Diluted | VERB | dilute | verb | verb, past participle\n",
            "earnings | NOUN | earning | noun | noun, plural\n",
            "per | ADP | per | adposition | conjunction, subordinating or preposition\n",
            "share | NOUN | share | noun | noun, singular or mass\n",
            "was | AUX | be | auxiliary | verb, past tense\n",
            "$ | SYM | $ | symbol | symbol, currency\n",
            "3.23 | NUM | 3.23 | numeral | cardinal number\n",
            "and | CCONJ | and | coordinating conjunction | conjunction, coordinating\n",
            "increased | VERB | increase | verb | verb, past tense\n",
            "10 | NUM | 10 | numeral | cardinal number\n",
            "% | NOUN | % | noun | noun, singular or mass\n",
            "\n",
            "\n",
            " | SPACE | \n",
            "\n",
            " | space | whitespace\n",
            "“ | PUNCT | \" | punctuation | opening quotation mark\n",
            "This | DET | this | determiner | determiner\n",
            "quarter | NOUN | quarter | noun | noun, singular or mass\n",
            "Microsoft | PROPN | Microsoft | proper noun | noun, proper singular\n",
            "Cloud | PROPN | Cloud | proper noun | noun, proper singular\n",
            "revenue | NOUN | revenue | noun | noun, singular or mass\n",
            "was | AUX | be | auxiliary | verb, past tense\n",
            "$ | SYM | $ | symbol | symbol, currency\n",
            "40.9 | NUM | 40.9 | numeral | cardinal number\n",
            "billion | NUM | billion | numeral | cardinal number\n",
            ", | PUNCT | , | punctuation | punctuation mark, comma\n",
            "up | ADV | up | adverb | adverb\n",
            "21 | NUM | 21 | numeral | cardinal number\n",
            "% | NOUN | % | noun | noun, singular or mass\n",
            "year | NOUN | year | noun | noun, singular or mass\n",
            "- | PUNCT | - | punctuation | punctuation mark, hyphen\n",
            "over | ADP | over | adposition | conjunction, subordinating or preposition\n",
            "- | PUNCT | - | punctuation | punctuation mark, hyphen\n",
            "year | NOUN | year | noun | noun, singular or mass\n",
            ", | PUNCT | , | punctuation | punctuation mark, comma\n",
            "” | PUNCT | \" | punctuation | closing quotation mark\n",
            "said | VERB | say | verb | verb, past tense\n",
            "Amy | PROPN | Amy | proper noun | noun, proper singular\n",
            "Hood | PROPN | Hood | proper noun | noun, proper singular\n",
            ", | PUNCT | , | punctuation | punctuation mark, comma\n",
            "executive | ADJ | executive | adjective | adjective (English), other noun-modifier (Chinese)\n",
            "vice | NOUN | vice | noun | noun, singular or mass\n",
            "president | NOUN | president | noun | noun, singular or mass\n",
            "and | CCONJ | and | coordinating conjunction | conjunction, coordinating\n",
            "chief | ADJ | chief | adjective | adjective (English), other noun-modifier (Chinese)\n",
            "financial | ADJ | financial | adjective | adjective (English), other noun-modifier (Chinese)\n",
            "officer | NOUN | officer | noun | noun, singular or mass\n",
            "of | ADP | of | adposition | conjunction, subordinating or preposition\n",
            "Microsoft | PROPN | Microsoft | proper noun | noun, proper singular\n",
            ". | PUNCT | . | punctuation | punctuation mark, sentence closer\n",
            "” | PUNCT | \" | punctuation | opening quotation mark\n",
            "We | PRON | we | pronoun | pronoun, personal\n",
            "remain | VERB | remain | verb | verb, non-3rd person singular present\n",
            "committed | ADJ | committed | adjective | adjective (English), other noun-modifier (Chinese)\n",
            "to | ADP | to | adposition | conjunction, subordinating or preposition\n",
            "balancing | VERB | balance | verb | verb, gerund or present participle\n",
            "operational | ADJ | operational | adjective | adjective (English), other noun-modifier (Chinese)\n",
            "discipline | NOUN | discipline | noun | noun, singular or mass\n",
            "with | ADP | with | adposition | conjunction, subordinating or preposition\n",
            "continued | VERB | continue | verb | verb, past participle\n",
            "investments | NOUN | investment | noun | noun, plural\n",
            "in | ADP | in | adposition | conjunction, subordinating or preposition\n",
            "our | PRON | our | pronoun | pronoun, possessive\n",
            "cloud | NOUN | cloud | noun | noun, singular or mass\n",
            "and | CCONJ | and | coordinating conjunction | conjunction, coordinating\n",
            "AI | PROPN | AI | proper noun | noun, proper singular\n",
            "infrastructure | NOUN | infrastructure | noun | noun, singular or mass\n",
            ". | PUNCT | . | punctuation | punctuation mark, sentence closer\n",
            "” | PUNCT | \" | punctuation | closing quotation mark\n",
            "\n",
            "\n",
            " | SPACE | \n",
            "\n",
            " | space | whitespace\n"
          ]
        }
      ]
    },
    {
      "cell_type": "code",
      "source": [
        "filtered_token = []\n",
        "\n",
        "for token in doc:\n",
        "  if token.pos_ not in [\"SPACE\", \"PUNCT\"]:\n",
        "    filtered_token.append(token)"
      ],
      "metadata": {
        "id": "FgwXe0M7Rtk4"
      },
      "execution_count": 17,
      "outputs": []
    },
    {
      "cell_type": "code",
      "source": [
        "filtered_token"
      ],
      "metadata": {
        "colab": {
          "base_uri": "https://localhost:8080/"
        },
        "id": "L7hOEMSXS_mV",
        "outputId": "95a59e69-6c67-4c73-dea0-7b378baf9962"
      },
      "execution_count": 18,
      "outputs": [
        {
          "output_type": "execute_result",
          "data": {
            "text/plain": [
              "[Microsoft,\n",
              " Corp.,\n",
              " today,\n",
              " announced,\n",
              " the,\n",
              " following,\n",
              " results,\n",
              " for,\n",
              " the,\n",
              " quarter,\n",
              " ended,\n",
              " December,\n",
              " 31,\n",
              " 2024,\n",
              " as,\n",
              " compared,\n",
              " to,\n",
              " the,\n",
              " corresponding,\n",
              " period,\n",
              " of,\n",
              " last,\n",
              " fiscal,\n",
              " year,\n",
              " Revenue,\n",
              " was,\n",
              " $,\n",
              " 69.6,\n",
              " billion,\n",
              " and,\n",
              " increased,\n",
              " 12,\n",
              " %,\n",
              " Operating,\n",
              " income,\n",
              " was,\n",
              " $,\n",
              " 31.7,\n",
              " billion,\n",
              " and,\n",
              " increased,\n",
              " 17,\n",
              " %,\n",
              " up,\n",
              " 16,\n",
              " %,\n",
              " in,\n",
              " constant,\n",
              " currency,\n",
              " Net,\n",
              " income,\n",
              " was,\n",
              " $,\n",
              " 24.1,\n",
              " billion,\n",
              " and,\n",
              " increased,\n",
              " 10,\n",
              " %,\n",
              " Diluted,\n",
              " earnings,\n",
              " per,\n",
              " share,\n",
              " was,\n",
              " $,\n",
              " 3.23,\n",
              " and,\n",
              " increased,\n",
              " 10,\n",
              " %,\n",
              " This,\n",
              " quarter,\n",
              " Microsoft,\n",
              " Cloud,\n",
              " revenue,\n",
              " was,\n",
              " $,\n",
              " 40.9,\n",
              " billion,\n",
              " up,\n",
              " 21,\n",
              " %,\n",
              " year,\n",
              " over,\n",
              " year,\n",
              " said,\n",
              " Amy,\n",
              " Hood,\n",
              " executive,\n",
              " vice,\n",
              " president,\n",
              " and,\n",
              " chief,\n",
              " financial,\n",
              " officer,\n",
              " of,\n",
              " Microsoft,\n",
              " We,\n",
              " remain,\n",
              " committed,\n",
              " to,\n",
              " balancing,\n",
              " operational,\n",
              " discipline,\n",
              " with,\n",
              " continued,\n",
              " investments,\n",
              " in,\n",
              " our,\n",
              " cloud,\n",
              " and,\n",
              " AI,\n",
              " infrastructure]"
            ]
          },
          "metadata": {},
          "execution_count": 18
        }
      ]
    },
    {
      "cell_type": "code",
      "source": [
        "count = doc.count_by(spacy.attrs.POS)\n",
        "count"
      ],
      "metadata": {
        "colab": {
          "base_uri": "https://localhost:8080/"
        },
        "id": "Ty19AXYjTGPY",
        "outputId": "5555304a-14d5-4dfb-dafb-e28d0029858c"
      },
      "execution_count": 19,
      "outputs": [
        {
          "output_type": "execute_result",
          "data": {
            "text/plain": [
              "{96: 9,\n",
              " 92: 28,\n",
              " 100: 14,\n",
              " 90: 4,\n",
              " 85: 10,\n",
              " 93: 17,\n",
              " 97: 20,\n",
              " 98: 1,\n",
              " 84: 10,\n",
              " 103: 10,\n",
              " 87: 5,\n",
              " 99: 5,\n",
              " 89: 6,\n",
              " 86: 2,\n",
              " 95: 2}"
            ]
          },
          "metadata": {},
          "execution_count": 19
        }
      ]
    },
    {
      "cell_type": "code",
      "source": [
        "doc.vocab[99].text"
      ],
      "metadata": {
        "colab": {
          "base_uri": "https://localhost:8080/",
          "height": 36
        },
        "id": "BWPc-YurTlf8",
        "outputId": "afd70949-63af-48bd-c3c2-af07a8347fa3"
      },
      "execution_count": 22,
      "outputs": [
        {
          "output_type": "execute_result",
          "data": {
            "text/plain": [
              "'SYM'"
            ],
            "application/vnd.google.colaboratory.intrinsic+json": {
              "type": "string"
            }
          },
          "metadata": {},
          "execution_count": 22
        }
      ]
    },
    {
      "cell_type": "code",
      "source": [
        "for k, v in count.items():\n",
        "  print(doc.vocab[k].text, \"|\", v)"
      ],
      "metadata": {
        "colab": {
          "base_uri": "https://localhost:8080/"
        },
        "id": "N6hOdMQCTpuR",
        "outputId": "2d19c2f1-380c-48a6-d441-c72ec4e6e4d6"
      },
      "execution_count": 23,
      "outputs": [
        {
          "output_type": "stream",
          "name": "stdout",
          "text": [
            "PROPN | 9\n",
            "NOUN | 28\n",
            "VERB | 14\n",
            "DET | 4\n",
            "ADP | 10\n",
            "NUM | 17\n",
            "PUNCT | 20\n",
            "SCONJ | 1\n",
            "ADJ | 10\n",
            "SPACE | 10\n",
            "AUX | 5\n",
            "SYM | 5\n",
            "CCONJ | 6\n",
            "ADV | 2\n",
            "PRON | 2\n"
          ]
        }
      ]
    },
    {
      "cell_type": "markdown",
      "source": [
        "# **Exercise**"
      ],
      "metadata": {
        "id": "AogV1Z-xVTwY"
      }
    },
    {
      "cell_type": "code",
      "source": [
        "news_text = ''' 'Inflation rose again in April, continuing a climb that has pushed consumers to the brink and is threatening the economic expansion, the Bureau of Labor Statistics reported Wednesday.\\n\\nThe consumer price index, a broad-based measure of prices for goods and services, increased 8.3% from a year ago, higher than the Dow Jones estimate for an 8.1% gain. That represented a slight ease from Marchâ€™s peak but was still close to the highest level since the summer of 1982.\\n\\nRemoving volatile food and ene'''\n"
      ],
      "metadata": {
        "id": "hl1z3MlkUfDL"
      },
      "execution_count": 26,
      "outputs": []
    },
    {
      "cell_type": "code",
      "source": [
        "doc = nlp(news_text)\n",
        "numeral_token = []\n",
        "noun_token = []\n",
        "\n",
        "for token in doc:\n",
        "  if token.pos_ == 'NOUN':\n",
        "    noun_token.append(token)\n",
        "  elif token.pos_ == 'NUM':\n",
        "    numeral_token.append(token)"
      ],
      "metadata": {
        "id": "y1DE9WSJVl-6"
      },
      "execution_count": 28,
      "outputs": []
    },
    {
      "cell_type": "code",
      "source": [
        "numeral_token"
      ],
      "metadata": {
        "colab": {
          "base_uri": "https://localhost:8080/"
        },
        "id": "lJjFZBEPWVs2",
        "outputId": "c59a82d6-3f51-4b5a-c104-56a8e3a3eaa9"
      },
      "execution_count": 29,
      "outputs": [
        {
          "output_type": "execute_result",
          "data": {
            "text/plain": [
              "[8.3, 8.1, 1982]"
            ]
          },
          "metadata": {},
          "execution_count": 29
        }
      ]
    },
    {
      "cell_type": "code",
      "source": [
        "noun_token"
      ],
      "metadata": {
        "colab": {
          "base_uri": "https://localhost:8080/"
        },
        "id": "b7OZkbY2WZrO",
        "outputId": "86a3a461-c57b-409c-870c-41518d241b0b"
      },
      "execution_count": 30,
      "outputs": [
        {
          "output_type": "execute_result",
          "data": {
            "text/plain": [
              "[Inflation,\n",
              " climb,\n",
              " consumers,\n",
              " brink,\n",
              " expansion,\n",
              " consumer,\n",
              " price,\n",
              " index,\n",
              " measure,\n",
              " prices,\n",
              " goods,\n",
              " services,\n",
              " %,\n",
              " year,\n",
              " estimate,\n",
              " %,\n",
              " gain,\n",
              " ease,\n",
              " Marchâ€,\n",
              " ™,\n",
              " peak,\n",
              " level,\n",
              " summer,\n",
              " food,\n",
              " ene]"
            ]
          },
          "metadata": {},
          "execution_count": 30
        }
      ]
    },
    {
      "cell_type": "code",
      "source": [
        "count = doc.count_by(spacy.attrs.POS)\n",
        "count"
      ],
      "metadata": {
        "colab": {
          "base_uri": "https://localhost:8080/"
        },
        "id": "ss9GzT9rWbzZ",
        "outputId": "cccef05b-9110-480b-8e07-b4b5f99d2566"
      },
      "execution_count": 31,
      "outputs": [
        {
          "output_type": "execute_result",
          "data": {
            "text/plain": [
              "{103: 3,\n",
              " 97: 10,\n",
              " 92: 25,\n",
              " 100: 9,\n",
              " 86: 4,\n",
              " 85: 11,\n",
              " 96: 7,\n",
              " 90: 12,\n",
              " 95: 2,\n",
              " 87: 3,\n",
              " 89: 4,\n",
              " 84: 6,\n",
              " 93: 3,\n",
              " 94: 1,\n",
              " 98: 1}"
            ]
          },
          "metadata": {},
          "execution_count": 31
        }
      ]
    },
    {
      "cell_type": "code",
      "source": [
        "for k,v in count.items():\n",
        "  print(doc.vocab[k].text, \"|\",v )"
      ],
      "metadata": {
        "colab": {
          "base_uri": "https://localhost:8080/"
        },
        "id": "GZQkqBpmWzst",
        "outputId": "50c81466-3e03-4f7b-c120-a1f42a7a51d0"
      },
      "execution_count": 32,
      "outputs": [
        {
          "output_type": "stream",
          "name": "stdout",
          "text": [
            "SPACE | 3\n",
            "PUNCT | 10\n",
            "NOUN | 25\n",
            "VERB | 9\n",
            "ADV | 4\n",
            "ADP | 11\n",
            "PROPN | 7\n",
            "DET | 12\n",
            "PRON | 2\n",
            "AUX | 3\n",
            "CCONJ | 4\n",
            "ADJ | 6\n",
            "NUM | 3\n",
            "PART | 1\n",
            "SCONJ | 1\n"
          ]
        }
      ]
    },
    {
      "cell_type": "code",
      "source": [],
      "metadata": {
        "id": "MMvm-o_pbLZj"
      },
      "execution_count": null,
      "outputs": []
    }
  ]
}