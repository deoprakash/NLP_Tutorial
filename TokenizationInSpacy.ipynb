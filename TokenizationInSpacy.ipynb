{
  "nbformat": 4,
  "nbformat_minor": 0,
  "metadata": {
    "colab": {
      "provenance": [],
      "authorship_tag": "ABX9TyPgcfovk5bl22x9sCNZDTgQ",
      "include_colab_link": true
    },
    "kernelspec": {
      "name": "python3",
      "display_name": "Python 3"
    },
    "language_info": {
      "name": "python"
    }
  },
  "cells": [
    {
      "cell_type": "markdown",
      "metadata": {
        "id": "view-in-github",
        "colab_type": "text"
      },
      "source": [
        "<a href=\"https://colab.research.google.com/github/deoprakash/NLP_Tutorial/blob/main/TokenizationInSpacy.ipynb\" target=\"_parent\"><img src=\"https://colab.research.google.com/assets/colab-badge.svg\" alt=\"Open In Colab\"/></a>"
      ]
    },
    {
      "cell_type": "code",
      "execution_count": 1,
      "metadata": {
        "id": "555lSiFdP4cK"
      },
      "outputs": [],
      "source": [
        "import spacy"
      ]
    },
    {
      "cell_type": "markdown",
      "source": [
        "Create blank language object and tokenize words in a sentence"
      ],
      "metadata": {
        "id": "YTrVXKjFacG4"
      }
    },
    {
      "cell_type": "code",
      "source": [
        "nlp = spacy.blank(\"en\")\n",
        "doc = nlp(\"Dr. Lalit is a dentist. His wife is surgeon.\")\n",
        "\n",
        "for token in doc:\n",
        "  print(token)"
      ],
      "metadata": {
        "colab": {
          "base_uri": "https://localhost:8080/"
        },
        "id": "88NxADFmP9gj",
        "outputId": "e562ed36-5f5b-44ad-e5db-555844625756"
      },
      "execution_count": 13,
      "outputs": [
        {
          "output_type": "stream",
          "name": "stdout",
          "text": [
            "Dr.\n",
            "Lalit\n",
            "is\n",
            "a\n",
            "dentist\n",
            ".\n",
            "His\n",
            "wife\n",
            "is\n",
            "surgeon\n",
            ".\n"
          ]
        }
      ]
    },
    {
      "cell_type": "code",
      "source": [
        "type(doc)"
      ],
      "metadata": {
        "colab": {
          "base_uri": "https://localhost:8080/"
        },
        "id": "7DP3r7EuQT9g",
        "outputId": "cbba8165-28ce-4cc3-ecf4-7cfe00763df2"
      },
      "execution_count": 3,
      "outputs": [
        {
          "output_type": "execute_result",
          "data": {
            "text/plain": [
              "spacy.tokens.doc.Doc"
            ]
          },
          "metadata": {},
          "execution_count": 3
        }
      ]
    },
    {
      "cell_type": "markdown",
      "source": [
        "\n",
        "Using index to grab tokens/\n",
        "Span object"
      ],
      "metadata": {
        "id": "U5ZHOTWzaffU"
      }
    },
    {
      "cell_type": "code",
      "source": [
        "doc[0:3]"
      ],
      "metadata": {
        "colab": {
          "base_uri": "https://localhost:8080/"
        },
        "id": "tuQ0bmO_QcEY",
        "outputId": "29a4693d-f678-4cb5-abf8-30994b145289"
      },
      "execution_count": 14,
      "outputs": [
        {
          "output_type": "execute_result",
          "data": {
            "text/plain": [
              "Dr. Lalit is"
            ]
          },
          "metadata": {},
          "execution_count": 14
        }
      ]
    },
    {
      "cell_type": "markdown",
      "source": [
        "Collecting email ids"
      ],
      "metadata": {
        "id": "jbKEYJsUarHw"
      }
    },
    {
      "cell_type": "code",
      "source": [
        "text = '''Dear Mr. John Doe,\n",
        "\n",
        "I hope you’re doing well. Please reach out to me at **john.doe@example.com** or contact my assistant at **assistant@company.org**.\n",
        "\n",
        "For urgent matters, you can call my office at **+1-202-555-0173** or my personal number **(415) 555-1234**.\n",
        "Our support team is also available at **support@business.net** and can be reached via WhatsApp at **+44 7911 123456**.\n",
        "\n",
        "Best regards,\n",
        "Michael Scott\n",
        "Regional Manager, Dunder Mifflin\n",
        "Email: **michael.scott@dmifflin.com**\n",
        "Phone: **+1 646-555-5678**\n",
        "Website: www.dundermifflin.com  '''\n",
        "\n",
        "doc = nlp(text)\n",
        "email=[]\n",
        "for token in doc:\n",
        "  if token.like_email:\n",
        "    email.append(token)\n",
        "\n",
        "print(email)\n"
      ],
      "metadata": {
        "colab": {
          "base_uri": "https://localhost:8080/"
        },
        "id": "fcWluZ9ORWNl",
        "outputId": "efc8ed1e-28bb-4fc6-f46c-19f0083ec7a9"
      },
      "execution_count": 16,
      "outputs": [
        {
          "output_type": "stream",
          "name": "stdout",
          "text": [
            "[john.doe@example.com, assistant@company.org, support@business.net, michael.scott@dmifflin.com]\n"
          ]
        }
      ]
    },
    {
      "cell_type": "markdown",
      "source": [
        "Support in other languages"
      ],
      "metadata": {
        "id": "4r5u7YUEat_Z"
      }
    },
    {
      "cell_type": "code",
      "source": [
        "nlp = spacy.blank('hi')\n",
        "\n",
        "doc = nlp(\"मेरे दोस्त ने मुझे एक उपहार दिया.\")\n",
        "\n",
        "for token in doc:\n",
        "  print(token)"
      ],
      "metadata": {
        "colab": {
          "base_uri": "https://localhost:8080/"
        },
        "id": "nRAqZiDXUMSH",
        "outputId": "0910e4f5-491a-4572-bab8-e7b432c1040a"
      },
      "execution_count": 22,
      "outputs": [
        {
          "output_type": "stream",
          "name": "stdout",
          "text": [
            "मेरे\n",
            "दोस्त\n",
            "ने\n",
            "मुझे\n",
            "एक\n",
            "उपहार\n",
            "दिया\n",
            ".\n"
          ]
        },
        {
          "output_type": "stream",
          "name": "stderr",
          "text": [
            "/usr/local/lib/python3.11/dist-packages/spacy/util.py:1740: UserWarning: [W111] Jupyter notebook detected: if using `prefer_gpu()` or `require_gpu()`, include it in the same cell right before `spacy.load()` to ensure that the model is loaded on the correct device. More information: http://spacy.io/usage/v3#jupyter-notebook-gpu\n",
            "  warnings.warn(Warnings.W111)\n"
          ]
        }
      ]
    },
    {
      "cell_type": "code",
      "source": [
        "doc = nlp(\"gimme double cheese extra large healthy pizza.\")\n",
        "\n",
        "tokens=[token.text for token in doc]\n",
        "tokens"
      ],
      "metadata": {
        "colab": {
          "base_uri": "https://localhost:8080/"
        },
        "id": "vRLeBL10U3ev",
        "outputId": "93b83d01-75e7-43f5-f246-1a9231cbc817"
      },
      "execution_count": 24,
      "outputs": [
        {
          "output_type": "execute_result",
          "data": {
            "text/plain": [
              "['gimme', 'double', 'cheese', 'extra', 'large', 'healthy', 'pizza', '.']"
            ]
          },
          "metadata": {},
          "execution_count": 24
        }
      ]
    },
    {
      "cell_type": "markdown",
      "source": [
        "Customizing tokenizer"
      ],
      "metadata": {
        "id": "upwypK4haxPH"
      }
    },
    {
      "cell_type": "code",
      "source": [
        "from spacy.symbols import ORTH\n",
        "nlp.tokenizer.add_special_case(\"gimme\", [\n",
        "    {ORTH:'gim'},\n",
        "    {ORTH: 'me'}\n",
        "])\n",
        "\n",
        "tokens"
      ],
      "metadata": {
        "colab": {
          "base_uri": "https://localhost:8080/"
        },
        "id": "KPAPt1tPWcs-",
        "outputId": "7c998559-b14d-4af5-9596-acb98164dbb9"
      },
      "execution_count": 34,
      "outputs": [
        {
          "output_type": "execute_result",
          "data": {
            "text/plain": [
              "['gim', 'me', 'double', 'cheese', 'extra', 'large', 'healthy', 'pizza', '.']"
            ]
          },
          "metadata": {},
          "execution_count": 34
        }
      ]
    },
    {
      "cell_type": "markdown",
      "source": [
        "Sentence Tokenization or Segmentation"
      ],
      "metadata": {
        "id": "P_c4WTUwa3E5"
      }
    },
    {
      "cell_type": "code",
      "source": [
        "nlp.add_pipe('sentencizer')"
      ],
      "metadata": {
        "colab": {
          "base_uri": "https://localhost:8080/"
        },
        "id": "M4rBzEI1XxvM",
        "outputId": "d2d86699-9578-4512-bf7e-728ea2d00791"
      },
      "execution_count": 27,
      "outputs": [
        {
          "output_type": "execute_result",
          "data": {
            "text/plain": [
              "<spacy.pipeline.sentencizer.Sentencizer at 0x7a467af76e50>"
            ]
          },
          "metadata": {},
          "execution_count": 27
        }
      ]
    },
    {
      "cell_type": "code",
      "source": [
        "nlp.pipe_names"
      ],
      "metadata": {
        "colab": {
          "base_uri": "https://localhost:8080/"
        },
        "id": "1P4IbsmIYion",
        "outputId": "012e7d98-ebdd-44af-812f-6c638645c98b"
      },
      "execution_count": 28,
      "outputs": [
        {
          "output_type": "execute_result",
          "data": {
            "text/plain": [
              "['sentencizer']"
            ]
          },
          "metadata": {},
          "execution_count": 28
        }
      ]
    },
    {
      "cell_type": "markdown",
      "source": [
        "Earlier empty pipeline was there now custom pipeline 'Sentencizer' is added."
      ],
      "metadata": {
        "id": "p9IgtOgrYnZp"
      }
    },
    {
      "cell_type": "code",
      "source": [
        "text = '''Dear Mr. John Doe,\n",
        "\n",
        "I hope you’re doing well. Please reach out to me at **john.doe@example.com** or contact my assistant at **assistant@company.org**.\n",
        "\n",
        "For urgent matters, you can call my office at **+1-202-555-0173** or my personal number **(415) 555-1234**.\n",
        "Our support team is also available at **support@business.net** and can be reached via WhatsApp at **+44 7911 123456**.\n",
        "\n",
        "Best regards,\n",
        "Michael Scott\n",
        "Regional Manager, Dunder Mifflin\n",
        "Email: **michael.scott@dmifflin.com**\n",
        "Phone: **+1 646-555-5678**\n",
        "Website: www.dundermifflin.com  '''\n",
        "\n",
        "doc = nlp(text)\n",
        "for sentence in doc.sents:\n",
        "  print(sentence)"
      ],
      "metadata": {
        "colab": {
          "base_uri": "https://localhost:8080/"
        },
        "id": "EniZEVWSYlwO",
        "outputId": "ac8fba56-0c3e-418c-fb41-1240b626bb37"
      },
      "execution_count": 29,
      "outputs": [
        {
          "output_type": "stream",
          "name": "stdout",
          "text": [
            "Dear Mr.\n",
            "John Doe,  \n",
            "\n",
            "I hope you’re doing well.\n",
            "Please reach out to me at **john.doe@example.com** or contact my assistant at **assistant@company.org**.\n",
            " \n",
            "\n",
            "For urgent matters, you can call my office at **+1-202-555-0173** or my personal number **(415) 555-1234**.\n",
            " \n",
            "Our support team is also available at **support@business.net** and can be reached via WhatsApp at **+44 7911 123456**.\n",
            " \n",
            "\n",
            "Best regards,  \n",
            "Michael Scott  \n",
            "Regional Manager, Dunder Mifflin  \n",
            "Email: **michael.scott@dmifflin.com**  \n",
            "Phone: **+1 646-555-5678**  \n",
            "Website: www.dundermifflin.com  \n"
          ]
        }
      ]
    },
    {
      "cell_type": "markdown",
      "source": [
        "## **Assignments**"
      ],
      "metadata": {
        "id": "pSPFSMZtZ1ZY"
      }
    },
    {
      "cell_type": "markdown",
      "source": [
        "Q1. Detect URLs"
      ],
      "metadata": {
        "id": "92gd1b-lbA6M"
      }
    },
    {
      "cell_type": "code",
      "source": [
        "text='''\n",
        "Look for data to help you address the question. Governments are good\n",
        "sources because data from public research is often freely available. Good\n",
        "places to start include http://www.data.gov/, and http://www.science.\n",
        "gov/, and in the United Kingdom, http://data.gov.uk/.\n",
        "Two of my favorite data sets are the General Social Survey at http://www3.norc.org/gss+website/,\n",
        "and the European Social Survey at http://www.europeansocialsurvey.org/.\n",
        "'''\n",
        "doc = nlp(text)\n",
        "\n",
        "for token in doc:\n",
        "  if token.like_url:\n",
        "    print(token)\n"
      ],
      "metadata": {
        "colab": {
          "base_uri": "https://localhost:8080/"
        },
        "id": "cKYs7Dk1ZcOK",
        "outputId": "38db5b4a-d4de-44aa-9928-b234c6630e2f"
      },
      "execution_count": 36,
      "outputs": [
        {
          "output_type": "stream",
          "name": "stdout",
          "text": [
            "http://www.data.gov/\n",
            "http://www.science\n",
            "http://data.gov.uk/.\n",
            "http://www3.norc.org/gss+website/\n",
            "http://www.europeansocialsurvey.org/.\n"
          ]
        }
      ]
    },
    {
      "cell_type": "code",
      "source": [
        "transactions = \"Tony gave two $ to Peter, Bruce gave 500 € to Steve\"\n",
        "doc = nlp(transactions)\n",
        "for token in doc:\n",
        "    if doc[token.i].is_currency:\n",
        "        print(doc[token.i-1].text, doc[token.i].text)"
      ],
      "metadata": {
        "colab": {
          "base_uri": "https://localhost:8080/"
        },
        "id": "0p4oJ9U_bGtn",
        "outputId": "8e8f3ed2-3893-48d6-d60a-44a190f3c9f8"
      },
      "execution_count": 49,
      "outputs": [
        {
          "output_type": "stream",
          "name": "stdout",
          "text": [
            "two $\n",
            "500 €\n"
          ]
        }
      ]
    },
    {
      "cell_type": "code",
      "source": [],
      "metadata": {
        "id": "EXgf72X-b2I9"
      },
      "execution_count": null,
      "outputs": []
    }
  ]
}